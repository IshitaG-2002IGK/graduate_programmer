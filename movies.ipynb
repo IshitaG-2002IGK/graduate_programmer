{
 "cells": [
  {
   "cell_type": "code",
   "execution_count": 42,
   "id": "082856dd-9fc6-4d30-b20d-206861264a1e",
   "metadata": {},
   "outputs": [],
   "source": [
    "# !pip install pandas sqlite3"
   ]
  },
  {
   "cell_type": "code",
   "execution_count": 43,
   "id": "e516c983-8905-4456-a51e-7f3eb144abbc",
   "metadata": {},
   "outputs": [],
   "source": [
    "import sqlite3\n",
    "import pandas as pd"
   ]
  },
  {
   "cell_type": "code",
   "execution_count": 44,
   "id": "6ae63ba4-bf7b-4438-88ed-c8852031e501",
   "metadata": {},
   "outputs": [],
   "source": [
    "csv_file = 'MoviesDataset.csv' \n",
    "df = pd.read_csv(csv_file)"
   ]
  },
  {
   "cell_type": "code",
   "execution_count": 45,
   "id": "86e85f2c-24a4-4712-a2c8-70bd1a5a545d",
   "metadata": {},
   "outputs": [
    {
     "data": {
      "text/plain": [
       "<sqlite3.Cursor at 0x7fd4923dbc00>"
      ]
     },
     "execution_count": 45,
     "metadata": {},
     "output_type": "execute_result"
    }
   ],
   "source": [
    "conn = sqlite3.connect('movies.db')\n",
    "cursor = conn.cursor()\n",
    "\n",
    "cursor.execute('''\n",
    "CREATE TABLE IF NOT EXISTS Movies (\n",
    "    title TEXT,\n",
    "    genre TEXT,\n",
    "    rating REAL,\n",
    "    runtime INTEGER,\n",
    "    gross_income TEXT,\n",
    "    year INTEGER,\n",
    "    starcast TEXT\n",
    ")\n",
    "''')"
   ]
  },
  {
   "cell_type": "code",
   "execution_count": 46,
   "id": "502064bf-7399-4a57-ac02-083c78a2e126",
   "metadata": {},
   "outputs": [
    {
     "data": {
      "text/plain": [
       "5562"
      ]
     },
     "execution_count": 46,
     "metadata": {},
     "output_type": "execute_result"
    }
   ],
   "source": [
    "df.to_sql('Movies', conn, if_exists='replace', index=False)\n"
   ]
  },
  {
   "cell_type": "code",
   "execution_count": 47,
   "id": "9285ab3e-3b64-465f-b4fb-a4626449c823",
   "metadata": {},
   "outputs": [
    {
     "name": "stdout",
     "output_type": "stream",
     "text": [
      "The remaining movies are: 5386\n"
     ]
    }
   ],
   "source": [
    "cursor.execute(\"DELETE FROM Movies WHERE rating < 5.0\")\n",
    "conn.commit()\n",
    "\n",
    "rem_movies = cursor.execute(\"SELECT COUNT(*) FROM Movies\").fetchone()[0]\n",
    "print(f\"The remaining movies are: {rem_movies}\")"
   ]
  },
  {
   "cell_type": "code",
   "execution_count": 48,
   "id": "3deec4ab-fdef-4025-aaa7-2b2232d01162",
   "metadata": {},
   "outputs": [
    {
     "name": "stdout",
     "output_type": "stream",
     "text": [
      "Unique Combined Genres: 152\n"
     ]
    }
   ],
   "source": [
    "unique_genres_combined = cursor.execute('''\n",
    "    SELECT COUNT(DISTINCT genre)\n",
    "    FROM (\n",
    "        SELECT main_genre AS genre FROM Movies\n",
    "        UNION\n",
    "        SELECT side_genre AS genre FROM Movies\n",
    "    )\n",
    "''').fetchone()[0]\n",
    "print(f\"Unique Combined Genres: {unique_genres_combined}\")"
   ]
  },
  {
   "cell_type": "code",
   "execution_count": 49,
   "id": "20d455d1-e377-433d-b031-a04129e68c82",
   "metadata": {},
   "outputs": [
    {
     "name": "stdout",
     "output_type": "stream",
     "text": [
      "Average Runtime for Movies with Rating 8-9: 130.92616033755274\n"
     ]
    }
   ],
   "source": [
    "avg_rt = cursor.execute('''\n",
    "    SELECT AVG(\"Runtime(Mins)\") \n",
    "    FROM Movies \n",
    "    WHERE rating BETWEEN 8 AND 9\n",
    "''').fetchone()[0]\n",
    "print(f\"Average Runtime for Movies with Rating 8-9: {avg_rt}\")"
   ]
  },
  {
   "cell_type": "code",
   "execution_count": 50,
   "id": "4bd2d128-e6ad-4503-b076-13aac2d1727c",
   "metadata": {},
   "outputs": [
    {
     "name": "stdout",
     "output_type": "stream",
     "text": [
      "Top 5 Gross income movies from 2000): $187.71M, $25.54M, $3.64M, $30.33M, Gross Unkown\n"
     ]
    }
   ],
   "source": [
    "top_5_gross_income = cursor.execute('''\n",
    "    SELECT \"Total_Gross\" \n",
    "    FROM Movies \n",
    "    WHERE year = 2000 AND \"Total_Gross\" IS NOT NULL \n",
    "    ORDER BY rating DESC \n",
    "    LIMIT 5\n",
    "''').fetchall()\n",
    "\n",
    "\n",
    "gross_income_formatted = ', '.join(row[0] for row in top_5_gross_income)\n",
    "print(f\"Top 5 Gross income movies from 2000): {gross_income_formatted}\")"
   ]
  },
  {
   "cell_type": "code",
   "execution_count": 51,
   "id": "9db8a8f7-99e1-47d8-95a3-7361a2f16a37",
   "metadata": {},
   "outputs": [
    {
     "name": "stdout",
     "output_type": "stream",
     "text": [
      "[(0, 'Movie_Title', 'TEXT', 0, None, 0), (1, 'Year', 'INTEGER', 0, None, 0), (2, 'Director', 'TEXT', 0, None, 0), (3, 'Actors', 'TEXT', 0, None, 0), (4, 'Rating', 'REAL', 0, None, 0), (5, 'Runtime(Mins)', 'INTEGER', 0, None, 0), (6, 'Censor', 'TEXT', 0, None, 0), (7, 'Total_Gross', 'TEXT', 0, None, 0), (8, 'main_genre', 'TEXT', 0, None, 0), (9, 'side_genre', 'TEXT', 0, None, 0)]\n"
     ]
    }
   ],
   "source": [
    "columns = cursor.execute(\"PRAGMA table_info(Movies)\").fetchall()\n",
    "print(columns)"
   ]
  },
  {
   "cell_type": "code",
   "execution_count": 52,
   "id": "1588d50c-e763-4810-b203-6c0d2ebf598c",
   "metadata": {},
   "outputs": [
    {
     "name": "stdout",
     "output_type": "stream",
     "text": [
      "Movies with Chris Evans: []\n",
      "Movies with Robert Downey Jr.: []\n"
     ]
    }
   ],
   "source": [
    "chris_evans_movies = cursor.execute('''\n",
    "    SELECT Movie_Title \n",
    "    FROM Movies \n",
    "    WHERE \"Starcast\" LIKE '%Chris Evans%'\n",
    "''').fetchall()\n",
    "\n",
    "robert_downey_jr_movies = cursor.execute('''\n",
    "    SELECT Movie_Title \n",
    "    FROM Movies \n",
    "    WHERE \"Starcast\" LIKE '%Robert Downey Jr.%'\n",
    "''').fetchall()\n",
    "\n",
    "print(\"Movies with Chris Evans:\", [row[0] for row in chris_evans_movies])\n",
    "print(\"Movies with Robert Downey Jr.:\", [row[0] for row in robert_downey_jr_movies])"
   ]
  },
  {
   "cell_type": "code",
   "execution_count": 53,
   "id": "d57f1029-43f4-4ae2-af3f-971c3e198c2d",
   "metadata": {},
   "outputs": [
    {
     "name": "stdout",
     "output_type": "stream",
     "text": [
      "Movies with Chris Evans and Robert Downey Jr.: None found\n"
     ]
    }
   ],
   "source": [
    "movies_with_chris_and_robert = cursor.execute('''\n",
    "    SELECT Movie_Title \n",
    "    FROM Movies \n",
    "    WHERE \"Starcast\" LIKE '%Chris Evans%' \n",
    "    AND \"Starcast\" LIKE '%Robert Downey Jr.%'\n",
    "''').fetchall()\n",
    "\n",
    "movies_titles = [row[0] for row in movies_with_chris_and_robert]\n",
    "print(f\"Movies with Chris Evans and Robert Downey Jr.: {', '.join(movies_titles) if movies_titles else 'None found'}\")"
   ]
  },
  {
   "cell_type": "code",
   "execution_count": 54,
   "id": "8e2541c3-dfba-40d4-84cf-4a9090e4a49a",
   "metadata": {},
   "outputs": [
    {
     "name": "stdout",
     "output_type": "stream",
     "text": [
      "[(0, 'Movie_Title', 'TEXT', 0, None, 0), (1, 'Year', 'INTEGER', 0, None, 0), (2, 'Director', 'TEXT', 0, None, 0), (3, 'Actors', 'TEXT', 0, None, 0), (4, 'Rating', 'REAL', 0, None, 0), (5, 'Runtime(Mins)', 'INTEGER', 0, None, 0), (6, 'Censor', 'TEXT', 0, None, 0), (7, 'Total_Gross', 'TEXT', 0, None, 0), (8, 'main_genre', 'TEXT', 0, None, 0), (9, 'side_genre', 'TEXT', 0, None, 0)]\n",
      "[('Kantara', 2022, 'Rishab Shetty', 'Rishab Shetty, Sapthami Gowda, Kishore Kumar G., Achyuth Kumar', 9.3, 148, 'UA', 'Gross Unkown', 'Action', ' Adventure,  Drama'), ('The Dark Knight', 2008, 'Christopher Nolan', 'Christian Bale, Heath Ledger, Aaron Eckhart, Michael Caine', 9.0, 152, 'UA', '$534.86M', 'Action', ' Crime,  Drama'), ('The Lord of the Rings: The Return of the King', 2003, 'Peter Jackson', 'Elijah Wood, Viggo Mortensen, Ian McKellen, Orlando Bloom', 9.0, 201, 'U', '$377.85M', 'Action', ' Adventure,  Drama'), ('Inception', 2010, 'Christopher Nolan', 'Leonardo DiCaprio, Joseph Gordon-Levitt, Elliot Page, Ken Watanabe', 8.8, 148, 'UA', '$292.58M', 'Action', ' Adventure,  Sci-Fi'), ('The Lord of the Rings: The Two Towers', 2002, 'Peter Jackson', 'Elijah Wood, Ian McKellen, Viggo Mortensen, Orlando Bloom', 8.8, 179, 'UA', '$342.55M', 'Action', ' Adventure,  Drama'), ('The Lord of the Rings: The Fellowship of the Ring', 2001, 'Peter Jackson', 'Elijah Wood, Ian McKellen, Orlando Bloom, Sean Bean', 8.8, 178, 'U', '$315.54M', 'Action', ' Adventure,  Drama'), ('The Matrix', 1999, 'Directors:Lana Wachowski, Lilly Wachowski', 'Keanu Reeves, Laurence Fishburne, Carrie-Anne Moss, Hugo Weaving', 8.7, 136, 'A', '$171.48M', 'Action', ' Sci-Fi'), ('The Empire Strikes Back', 1980, 'Irvin Kershner', 'Mark Hamill, Harrison Ford, Carrie Fisher, Billy Dee Williams', 8.7, 124, 'UA', '$290.48M', 'Action', ' Adventure,  Fantasy'), ('Terminator 2: Judgment Day', 1991, 'James Cameron', 'Arnold Schwarzenegger, Linda Hamilton, Edward Furlong, Robert Patrick', 8.6, 137, 'A', '$204.84M', 'Action', ' Sci-Fi'), ('Star Wars', 1977, 'George Lucas', 'Mark Hamill, Harrison Ford, Carrie Fisher, Alec Guinness', 8.6, 121, 'U', '$322.74M', 'Action', ' Adventure,  Fantasy')]\n"
     ]
    }
   ],
   "source": [
    "columns = cursor.execute(\"PRAGMA table_info(Movies)\").fetchall()\n",
    "print(columns)\n",
    "\n",
    "sample_data = cursor.execute(\"SELECT * FROM Movies LIMIT 10\").fetchall()\n",
    "print(sample_data)"
   ]
  },
  {
   "cell_type": "code",
   "execution_count": null,
   "id": "f0687d34-8bc9-491f-94b0-277ef6d9e969",
   "metadata": {},
   "outputs": [],
   "source": []
  },
  {
   "cell_type": "code",
   "execution_count": null,
   "id": "ebbf2ae9-140d-4bfa-823c-64ef003a35b8",
   "metadata": {},
   "outputs": [],
   "source": []
  },
  {
   "cell_type": "code",
   "execution_count": null,
   "id": "ebd1b03d-6be1-44bf-a2b7-f0f3dedeb141",
   "metadata": {},
   "outputs": [],
   "source": []
  },
  {
   "cell_type": "code",
   "execution_count": null,
   "id": "cd1a1802-8cbb-4940-896a-65b5c3d53fe6",
   "metadata": {},
   "outputs": [],
   "source": []
  },
  {
   "cell_type": "code",
   "execution_count": null,
   "id": "cc43812a-2d34-437b-848d-cfc34cad0285",
   "metadata": {},
   "outputs": [],
   "source": []
  },
  {
   "cell_type": "code",
   "execution_count": null,
   "id": "f0bbdcc4-97c9-450f-98f0-d2585af3407d",
   "metadata": {},
   "outputs": [],
   "source": []
  },
  {
   "cell_type": "code",
   "execution_count": null,
   "id": "9dc638a0-22b4-429a-ad51-84b715416d5f",
   "metadata": {},
   "outputs": [],
   "source": []
  },
  {
   "cell_type": "code",
   "execution_count": null,
   "id": "f44f611f-5995-4ed1-a1f6-434eb37f82b4",
   "metadata": {},
   "outputs": [],
   "source": []
  },
  {
   "cell_type": "code",
   "execution_count": null,
   "id": "41828290-0e73-4b54-a7af-c6662bfa514a",
   "metadata": {},
   "outputs": [],
   "source": []
  },
  {
   "cell_type": "code",
   "execution_count": null,
   "id": "6b8cf824-7f25-4092-94dc-f187d6009342",
   "metadata": {},
   "outputs": [],
   "source": []
  },
  {
   "cell_type": "code",
   "execution_count": null,
   "id": "080c0303-d428-42dc-b5fa-405a720bb9e2",
   "metadata": {},
   "outputs": [],
   "source": []
  },
  {
   "cell_type": "code",
   "execution_count": null,
   "id": "56a54ba9-e6b2-47b3-be86-438f9def2018",
   "metadata": {},
   "outputs": [],
   "source": []
  },
  {
   "cell_type": "code",
   "execution_count": null,
   "id": "cab9633b-3a59-42fe-9af7-b8b5bfd4cbf9",
   "metadata": {},
   "outputs": [],
   "source": []
  },
  {
   "cell_type": "code",
   "execution_count": null,
   "id": "d348fe0f-1461-44d1-83a6-d6758790b12e",
   "metadata": {},
   "outputs": [],
   "source": []
  },
  {
   "cell_type": "code",
   "execution_count": null,
   "id": "9446b8af-1db6-438a-b827-ad8d969fe3bc",
   "metadata": {},
   "outputs": [],
   "source": []
  },
  {
   "cell_type": "code",
   "execution_count": null,
   "id": "44b03f4e-3be9-4059-bab7-25bfe328155d",
   "metadata": {},
   "outputs": [],
   "source": []
  },
  {
   "cell_type": "code",
   "execution_count": null,
   "id": "09ad2fa9-66c4-4792-b99c-f6ccbba53cc1",
   "metadata": {},
   "outputs": [],
   "source": []
  }
 ],
 "metadata": {
  "kernelspec": {
   "display_name": "Python 3 (ipykernel)",
   "language": "python",
   "name": "python3"
  },
  "language_info": {
   "codemirror_mode": {
    "name": "ipython",
    "version": 3
   },
   "file_extension": ".py",
   "mimetype": "text/x-python",
   "name": "python",
   "nbconvert_exporter": "python",
   "pygments_lexer": "ipython3",
   "version": "3.9.19"
  }
 },
 "nbformat": 4,
 "nbformat_minor": 5
}
